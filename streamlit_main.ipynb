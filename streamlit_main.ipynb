{
 "cells": [
  {
   "cell_type": "markdown",
   "metadata": {},
   "source": [
    "# Proyecto de Streamlit"
   ]
  },
  {
   "cell_type": "code",
   "execution_count": 2,
   "metadata": {},
   "outputs": [],
   "source": [
    "# Librería para pdoer utilizar Streamlit\n",
    "import streamlit as st"
   ]
  },
  {
   "cell_type": "markdown",
   "metadata": {},
   "source": [
    "## Pantalla de Inicio:"
   ]
  },
  {
   "cell_type": "markdown",
   "metadata": {},
   "source": [
    "Dentro de la función `def main()` se va a declarar todo lo que se quiere mostrar cuando **se abra la aplicación web**. \n",
    "\n",
    "Las **claves** de esta pantalla principal son:"
   ]
  },
  {
   "cell_type": "markdown",
   "metadata": {},
   "source": [
    "### Título:\n",
    "\n",
    "- Se va a utilizar el método `.markdown()` de los objetos `streamlit` para mostrar el texto principal con una mayor posibilidad de personalización que usando `title()`\n",
    "\n",
    "- "
   ]
  },
  {
   "cell_type": "code",
   "execution_count": null,
   "metadata": {},
   "outputs": [],
   "source": [
    "# # # MAIN FUNCTION # # #\n",
    "def main ():\n",
    "\n",
    "    # Título:\n",
    "    st.markdown(<\"h1 style = 'text-align: center'; color: #dc793a; font-family: \\'Droid Sans Mono\\', monospace;'> 🚗 Compra y Vende tu Coche - Coches de Segunda Mano 🚗 </h1>\")"
   ]
  }
 ],
 "metadata": {
  "kernelspec": {
   "display_name": "Python 3",
   "language": "python",
   "name": "python3"
  },
  "language_info": {
   "codemirror_mode": {
    "name": "ipython",
    "version": 3
   },
   "file_extension": ".py",
   "mimetype": "text/x-python",
   "name": "python",
   "nbconvert_exporter": "python",
   "pygments_lexer": "ipython3",
   "version": "3.10.12"
  }
 },
 "nbformat": 4,
 "nbformat_minor": 2
}
